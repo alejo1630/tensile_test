{
 "cells": [
  {
   "cell_type": "markdown",
   "metadata": {
    "id": "pQCsrW1bEL69"
   },
   "source": [
    "# **Importar librerias**"
   ]
  },
  {
   "cell_type": "code",
   "execution_count": 1,
   "metadata": {
    "id": "h3Da2FkhEPEU"
   },
   "outputs": [],
   "source": [
    "import pandas as pd \n",
    "import matplotlib.pyplot as plt\n",
    "from math import pi\n",
    "from scipy import stats, interpolate\n",
    "import numpy as np\n",
    "from scipy.integrate import trapezoid"
   ]
  },
  {
   "cell_type": "markdown",
   "metadata": {
    "id": "ChetC_QzFAzU"
   },
   "source": [
    "# **Datos**\n",
    "\n",
    "Vamos analizar los datos del ensayo de tensión de un [acero 1020](https://www.matweb.com/search/DataSheet.aspx?MatGUID=10b74ebc27344380ab16b1b69f1cffbb)\n"
   ]
  },
  {
   "cell_type": "code",
   "execution_count": 2,
   "metadata": {
    "id": "5G4uNhWoFbAq"
   },
   "outputs": [],
   "source": [
    "# Cargar los datos\n",
    "\n",
    "df = pd.read_excel(\"datos.xlsx\")"
   ]
  },
  {
   "cell_type": "code",
   "execution_count": 3,
   "metadata": {
    "colab": {
     "base_uri": "https://localhost:8080/",
     "height": 206
    },
    "id": "OM4R0NxyNP1L",
    "outputId": "e1dbd566-5823-41a0-9d1e-9270729fe78c"
   },
   "outputs": [
    {
     "data": {
      "text/html": [
       "<div>\n",
       "<style scoped>\n",
       "    .dataframe tbody tr th:only-of-type {\n",
       "        vertical-align: middle;\n",
       "    }\n",
       "\n",
       "    .dataframe tbody tr th {\n",
       "        vertical-align: top;\n",
       "    }\n",
       "\n",
       "    .dataframe thead th {\n",
       "        text-align: right;\n",
       "    }\n",
       "</style>\n",
       "<table border=\"1\" class=\"dataframe\">\n",
       "  <thead>\n",
       "    <tr style=\"text-align: right;\">\n",
       "      <th></th>\n",
       "      <th>Carga [kN]</th>\n",
       "      <th>Longitud [mm]</th>\n",
       "    </tr>\n",
       "  </thead>\n",
       "  <tbody>\n",
       "    <tr>\n",
       "      <th>0</th>\n",
       "      <td>0.000000</td>\n",
       "      <td>50.0000</td>\n",
       "    </tr>\n",
       "    <tr>\n",
       "      <th>1</th>\n",
       "      <td>0.330776</td>\n",
       "      <td>50.0027</td>\n",
       "    </tr>\n",
       "    <tr>\n",
       "      <th>2</th>\n",
       "      <td>0.981932</td>\n",
       "      <td>50.0027</td>\n",
       "    </tr>\n",
       "    <tr>\n",
       "      <th>3</th>\n",
       "      <td>1.085901</td>\n",
       "      <td>50.0027</td>\n",
       "    </tr>\n",
       "    <tr>\n",
       "      <th>4</th>\n",
       "      <td>1.135960</td>\n",
       "      <td>50.0027</td>\n",
       "    </tr>\n",
       "  </tbody>\n",
       "</table>\n",
       "</div>"
      ],
      "text/plain": [
       "   Carga [kN]  Longitud [mm]\n",
       "0    0.000000        50.0000\n",
       "1    0.330776        50.0027\n",
       "2    0.981932        50.0027\n",
       "3    1.085901        50.0027\n",
       "4    1.135960        50.0027"
      ]
     },
     "execution_count": 3,
     "metadata": {},
     "output_type": "execute_result"
    }
   ],
   "source": [
    "# Visualizar tabla\n",
    "df.head()"
   ]
  },
  {
   "cell_type": "code",
   "execution_count": 4,
   "metadata": {
    "colab": {
     "base_uri": "https://localhost:8080/"
    },
    "id": "hvetLVVLNeV0",
    "outputId": "7e3e6fd9-ccea-4f70-cb82-33b4ee917587"
   },
   "outputs": [
    {
     "data": {
      "text/plain": [
       "(373, 2)"
      ]
     },
     "execution_count": 4,
     "metadata": {},
     "output_type": "execute_result"
    }
   ],
   "source": [
    "# Tamaño de los datos\n",
    "df.shape"
   ]
  },
  {
   "cell_type": "code",
   "execution_count": 5,
   "metadata": {
    "colab": {
     "base_uri": "https://localhost:8080/",
     "height": 457
    },
    "id": "RaHyADawOfIz",
    "outputId": "a06c8ba1-48c9-4231-b1e1-0bd9be5621bc"
   },
   "outputs": [
    {
     "data": {
      "image/png": "[encoded data removed]",
      "text/plain": [
       "<Figure size 700x500 with 1 Axes>"
      ]
     },
     "metadata": {
      "needs_background": "light"
     },
     "output_type": "display_data"
    }
   ],
   "source": [
    "# Gráfica Carga vs Longitud\n",
    "\n",
    "plt.figure(figsize = (7, 5), dpi = 100)\n",
    "\n",
    "plt.plot(df[\"Longitud [mm]\"], df[\"Carga [kN]\"])\n",
    "plt.xlabel(\"Longitud [mm]\")\n",
    "plt.ylabel(\"Carga [kN]\")\n",
    "plt.grid()\n",
    "plt.show()"
   ]
  },
  {
   "cell_type": "markdown",
   "metadata": {
    "id": "jtMQ-o4eF8Sk"
   },
   "source": [
    "# **Probeta**\n",
    "\n",
    "El ensayo se realizó con base en la norma [ASTM E8](https://drive.google.com/file/d/1ycPjdt3DRPj768g6afIgRQUQIBoKkulA/view?usp=sharing) sección 6.9\n",
    "\n",
    "$L_{0} = 50 mm $\n",
    "\n",
    "$D_{0} = 12.5 mm $"
   ]
  },
  {
   "cell_type": "markdown",
   "metadata": {
    "id": "X4YOf_2sHOB8"
   },
   "source": [
    "# **Curva Esfuerzo vs Deformación**\n",
    "\n",
    "\n"
   ]
  },
  {
   "cell_type": "markdown",
   "metadata": {
    "id": "ORfjmJqDHh_y"
   },
   "source": [
    "## *Esfuerzo de ingeniería - $\\sigma$*\n",
    "\n",
    "$$\\sigma = \\frac{F}{A_{0}}$$\n",
    "\n"
   ]
  },
  {
   "cell_type": "code",
   "execution_count": 6,
   "metadata": {
    "colab": {
     "base_uri": "https://localhost:8080/"
    },
    "id": "f_KOUbCwHveQ",
    "outputId": "77c88adf-93a8-4a78-b0c9-85df0cfa26bb"
   },
   "outputs": [
    {
     "data": {
      "text/plain": [
       "122.7184630308513"
      ]
     },
     "execution_count": 6,
     "metadata": {},
     "output_type": "execute_result"
    }
   ],
   "source": [
    "# Datos geométricos \n",
    "\n",
    "d_0 = 12.5\n",
    "A_0 = pi * (d_0**2) / 4\n",
    "A_0"
   ]
  },
  {
   "cell_type": "code",
   "execution_count": 7,
   "metadata": {
    "colab": {
     "base_uri": "https://localhost:8080/",
     "height": 206
    },
    "id": "C_USzDB4iY-B",
    "outputId": "1202bfa5-63a8-43c3-a08b-1626c8305805"
   },
   "outputs": [
    {
     "data": {
      "text/html": [
       "<div>\n",
       "<style scoped>\n",
       "    .dataframe tbody tr th:only-of-type {\n",
       "        vertical-align: middle;\n",
       "    }\n",
       "\n",
       "    .dataframe tbody tr th {\n",
       "        vertical-align: top;\n",
       "    }\n",
       "\n",
       "    .dataframe thead th {\n",
       "        text-align: right;\n",
       "    }\n",
       "</style>\n",
       "<table border=\"1\" class=\"dataframe\">\n",
       "  <thead>\n",
       "    <tr style=\"text-align: right;\">\n",
       "      <th></th>\n",
       "      <th>Carga [kN]</th>\n",
       "      <th>Longitud [mm]</th>\n",
       "      <th>Esfuerzo [MPa]</th>\n",
       "    </tr>\n",
       "  </thead>\n",
       "  <tbody>\n",
       "    <tr>\n",
       "      <th>0</th>\n",
       "      <td>0.000000</td>\n",
       "      <td>50.0000</td>\n",
       "      <td>0.000000</td>\n",
       "    </tr>\n",
       "    <tr>\n",
       "      <th>1</th>\n",
       "      <td>0.330776</td>\n",
       "      <td>50.0027</td>\n",
       "      <td>2.695407</td>\n",
       "    </tr>\n",
       "    <tr>\n",
       "      <th>2</th>\n",
       "      <td>0.981932</td>\n",
       "      <td>50.0027</td>\n",
       "      <td>8.001500</td>\n",
       "    </tr>\n",
       "    <tr>\n",
       "      <th>3</th>\n",
       "      <td>1.085901</td>\n",
       "      <td>50.0027</td>\n",
       "      <td>8.848718</td>\n",
       "    </tr>\n",
       "    <tr>\n",
       "      <th>4</th>\n",
       "      <td>1.135960</td>\n",
       "      <td>50.0027</td>\n",
       "      <td>9.256638</td>\n",
       "    </tr>\n",
       "  </tbody>\n",
       "</table>\n",
       "</div>"
      ],
      "text/plain": [
       "   Carga [kN]  Longitud [mm]  Esfuerzo [MPa]\n",
       "0    0.000000        50.0000        0.000000\n",
       "1    0.330776        50.0027        2.695407\n",
       "2    0.981932        50.0027        8.001500\n",
       "3    1.085901        50.0027        8.848718\n",
       "4    1.135960        50.0027        9.256638"
      ]
     },
     "execution_count": 7,
     "metadata": {},
     "output_type": "execute_result"
    }
   ],
   "source": [
    "df[\"Esfuerzo [MPa]\"] = df[\"Carga [kN]\"] * 1000 / A_0\n",
    "df.head()"
   ]
  },
  {
   "cell_type": "markdown",
   "metadata": {
    "id": "xsu_JMMiH1mq"
   },
   "source": [
    "## *Deformación de ingeniería - $\\varepsilon$*\n",
    "\n",
    "$$\\varepsilon = \\frac{L_i-L_0}{L_0}$$"
   ]
  },
  {
   "cell_type": "code",
   "execution_count": 8,
   "metadata": {
    "colab": {
     "base_uri": "https://localhost:8080/"
    },
    "id": "IRvSrfuaHXrI",
    "outputId": "b3baba60-59ca-44d2-db98-5cd6fae70b97"
   },
   "outputs": [
    {
     "data": {
      "text/plain": [
       "50.0"
      ]
     },
     "execution_count": 8,
     "metadata": {},
     "output_type": "execute_result"
    }
   ],
   "source": [
    "# Longitud inicial [mm]\n",
    "\n",
    "L_0 = df[\"Longitud [mm]\"][0]\n",
    "L_0"
   ]
  },
  {
   "cell_type": "code",
   "execution_count": 9,
   "metadata": {
    "colab": {
     "base_uri": "https://localhost:8080/",
     "height": 206
    },
    "id": "LgJ2US_FGco_",
    "outputId": "8daa53d1-d617-4f49-bd63-27995df4961f"
   },
   "outputs": [
    {
     "data": {
      "text/html": [
       "<div>\n",
       "<style scoped>\n",
       "    .dataframe tbody tr th:only-of-type {\n",
       "        vertical-align: middle;\n",
       "    }\n",
       "\n",
       "    .dataframe tbody tr th {\n",
       "        vertical-align: top;\n",
       "    }\n",
       "\n",
       "    .dataframe thead th {\n",
       "        text-align: right;\n",
       "    }\n",
       "</style>\n",
       "<table border=\"1\" class=\"dataframe\">\n",
       "  <thead>\n",
       "    <tr style=\"text-align: right;\">\n",
       "      <th></th>\n",
       "      <th>Carga [kN]</th>\n",
       "      <th>Longitud [mm]</th>\n",
       "      <th>Esfuerzo [MPa]</th>\n",
       "      <th>Deformación [mm/mm]</th>\n",
       "    </tr>\n",
       "  </thead>\n",
       "  <tbody>\n",
       "    <tr>\n",
       "      <th>0</th>\n",
       "      <td>0.000000</td>\n",
       "      <td>50.0000</td>\n",
       "      <td>0.000000</td>\n",
       "      <td>0.000000</td>\n",
       "    </tr>\n",
       "    <tr>\n",
       "      <th>1</th>\n",
       "      <td>0.330776</td>\n",
       "      <td>50.0027</td>\n",
       "      <td>2.695407</td>\n",
       "      <td>0.000054</td>\n",
       "    </tr>\n",
       "    <tr>\n",
       "      <th>2</th>\n",
       "      <td>0.981932</td>\n",
       "      <td>50.0027</td>\n",
       "      <td>8.001500</td>\n",
       "      <td>0.000054</td>\n",
       "    </tr>\n",
       "    <tr>\n",
       "      <th>3</th>\n",
       "      <td>1.085901</td>\n",
       "      <td>50.0027</td>\n",
       "      <td>8.848718</td>\n",
       "      <td>0.000054</td>\n",
       "    </tr>\n",
       "    <tr>\n",
       "      <th>4</th>\n",
       "      <td>1.135960</td>\n",
       "      <td>50.0027</td>\n",
       "      <td>9.256638</td>\n",
       "      <td>0.000054</td>\n",
       "    </tr>\n",
       "  </tbody>\n",
       "</table>\n",
       "</div>"
      ],
      "text/plain": [
       "   Carga [kN]  Longitud [mm]  Esfuerzo [MPa]  Deformación [mm/mm]\n",
       "0    0.000000        50.0000        0.000000             0.000000\n",
       "1    0.330776        50.0027        2.695407             0.000054\n",
       "2    0.981932        50.0027        8.001500             0.000054\n",
       "3    1.085901        50.0027        8.848718             0.000054\n",
       "4    1.135960        50.0027        9.256638             0.000054"
      ]
     },
     "execution_count": 9,
     "metadata": {},
     "output_type": "execute_result"
    }
   ],
   "source": [
    "# Deformación\n",
    "\n",
    "df[\"Deformación [mm/mm]\"] = (df[\"Longitud [mm]\"] - L_0) / L_0\n",
    "df.head()"
   ]
  },
  {
   "cell_type": "code",
   "execution_count": 10,
   "metadata": {
    "colab": {
     "base_uri": "https://localhost:8080/",
     "height": 462
    },
    "id": "KcBOdCReEXG0",
    "outputId": "d9c1e405-c048-45c3-aa91-8673943200f4"
   },
   "outputs": [
    {
     "data": {
      "image/png": "[encoded data removed]",
      "text/plain": [
       "<Figure size 700x500 with 1 Axes>"
      ]
     },
     "metadata": {
      "needs_background": "light"
     },
     "output_type": "display_data"
    }
   ],
   "source": [
    "# Gráfica Esfuerzo vs Deformación\n",
    "\n",
    "plt.figure(figsize = (7, 5), dpi = 100)\n",
    "plt.plot(df[\"Deformación [mm/mm]\"], df[\"Esfuerzo [MPa]\"], color = \"#EC7063\")\n",
    "plt.xlabel(\"Deformación [mm/mm]\")\n",
    "plt.ylabel(\"Esfuerzo [MPa]\")\n",
    "plt.grid()\n",
    "plt.show()"
   ]
  },
  {
   "cell_type": "markdown",
   "metadata": {
    "id": "6zPM0E44nFJ_"
   },
   "source": [
    "# **Propiedades**\n",
    "\n"
   ]
  },
  {
   "cell_type": "markdown",
   "metadata": {
    "id": "PzvWEpPloKv3"
   },
   "source": [
    "## *Módulo de Elasticidad/Módulo de Young - $E$* \n",
    "## *(Young's modulus)*\n",
    "\n",
    "$$ \\sigma = E\\varepsilon$$"
   ]
  },
  {
   "cell_type": "code",
   "execution_count": 11,
   "metadata": {
    "colab": {
     "base_uri": "https://localhost:8080/",
     "height": 457
    },
    "id": "_VaXicwnpCKV",
    "outputId": "f970cc6e-857d-4d2d-d763-c8dfef4bcc36"
   },
   "outputs": [
    {
     "data": {
      "image/png": "[encoded data removed]",
      "text/plain": [
       "<Figure size 700x500 with 1 Axes>"
      ]
     },
     "metadata": {
      "needs_background": "light"
     },
     "output_type": "display_data"
    }
   ],
   "source": [
    "elastico = df[df[\"Deformación [mm/mm]\"] <= 0.15/100]\n",
    "\n",
    "# Gráfica Zona Elástica\n",
    "plt.figure(figsize = (7, 5), dpi = 100)\n",
    "plt.scatter(elastico[\"Deformación [mm/mm]\"], elastico[\"Esfuerzo [MPa]\"], color = \"#EC7063\", marker = \"o\")\n",
    "plt.xlabel(\"Deformación [mm/mm]\")\n",
    "plt.ylabel(\"Esfuerzo [MPa]\")\n",
    "plt.grid()\n",
    "plt.show()"
   ]
  },
  {
   "cell_type": "markdown",
   "metadata": {
    "id": "8P25DBHltzYI"
   },
   "source": [
    "### Método de la pendiente\n",
    "\n",
    "$$ y = mx + b$$\n"
   ]
  },
  {
   "cell_type": "markdown",
   "metadata": {
    "id": "mjwTyjA5uVM6"
   },
   "source": [
    "\n",
    "$$m = \\frac{y_2 - y_1}{x_2 - x_1} =\\frac{\\sigma_2 - \\sigma_1}{\\varepsilon_2 - \\varepsilon_1}$$"
   ]
  },
  {
   "cell_type": "code",
   "execution_count": 12,
   "metadata": {
    "colab": {
     "base_uri": "https://localhost:8080/"
    },
    "id": "LGEktkw1uZpm",
    "outputId": "2e5b48df-428a-4bdd-8632-35dc809a311b"
   },
   "outputs": [
    {
     "name": "stdout",
     "output_type": "stream",
     "text": [
      "El módulo de elasticidad del material es de 149.24 GPa\n"
     ]
    }
   ],
   "source": [
    "# Módulo de elasticidad calculado por la pendiente\n",
    "E_1 =(elastico[\"Esfuerzo [MPa]\"].iloc[-1] - elastico[\"Esfuerzo [MPa]\"].iloc[0]) / (elastico[\"Deformación [mm/mm]\"].iloc[-1] - elastico[\"Deformación [mm/mm]\"].iloc[0])\n",
    "\n",
    "print(f\"El módulo de elasticidad del material es de {E_1/1000:.2f} GPa\")"
   ]
  },
  {
   "cell_type": "markdown",
   "metadata": {
    "id": "CdcK0at1v2K2"
   },
   "source": [
    "### Método de regresión"
   ]
  },
  {
   "cell_type": "code",
   "execution_count": 13,
   "metadata": {
    "colab": {
     "base_uri": "https://localhost:8080/"
    },
    "id": "9k1GR4bdD4iq",
    "outputId": "ca13538d-53e3-49d6-92d6-c24d31734332"
   },
   "outputs": [
    {
     "data": {
      "text/plain": [
       "LinregressResult(slope=154039.3487190656, intercept=-23.193321996825418, rvalue=0.9732501230045275, pvalue=3.783188906736965e-54, stderr=4015.6166309376117, intercept_stderr=2.684043161187463)"
      ]
     },
     "execution_count": 13,
     "metadata": {},
     "output_type": "execute_result"
    }
   ],
   "source": [
    "# Modelo regresión lineal \n",
    "\n",
    "modelo = stats.linregress(elastico[\"Deformación [mm/mm]\"], elastico[\"Esfuerzo [MPa]\"])\n",
    "modelo"
   ]
  },
  {
   "cell_type": "code",
   "execution_count": 14,
   "metadata": {
    "colab": {
     "base_uri": "https://localhost:8080/"
    },
    "id": "7gbAILTvs-qa",
    "outputId": "45c1b1a7-f2a1-464f-83ca-344cda89e92e"
   },
   "outputs": [
    {
     "name": "stdout",
     "output_type": "stream",
     "text": [
      "El módulo de elasticidad del material es de 154.04 GPa\n"
     ]
    }
   ],
   "source": [
    "# Pendiente\n",
    "E_2 = modelo.slope\n",
    "print(f\"El módulo de elasticidad del material es de {E_2/1000:.2f} GPa\")"
   ]
  },
  {
   "cell_type": "code",
   "execution_count": 15,
   "metadata": {
    "colab": {
     "base_uri": "https://localhost:8080/"
    },
    "id": "Uk5_BS3kxWvW",
    "outputId": "880ac5a2-02f9-47ab-9a0a-4739e44195df"
   },
   "outputs": [
    {
     "data": {
      "text/plain": [
       "-23.193321996825418"
      ]
     },
     "execution_count": 15,
     "metadata": {},
     "output_type": "execute_result"
    }
   ],
   "source": [
    "# Intercepto\n",
    "modelo.intercept"
   ]
  },
  {
   "cell_type": "markdown",
   "metadata": {
    "id": "Lp3ko5l1tFiK"
   },
   "source": [
    "Una forma de ver qué tan bien se ajusta un modelo de regresión lineal es con el [$R^{2}$](https://towardsdatascience.com/data-science-explaining-r%C2%B2-in-statistics-6f34e7f0a9bb)\n",
    "\n"
   ]
  },
  {
   "cell_type": "code",
   "execution_count": 16,
   "metadata": {
    "colab": {
     "base_uri": "https://localhost:8080/"
    },
    "id": "X8Uj-7H6wO3-",
    "outputId": "1bf7af18-2376-42bb-f67b-5c800a9238b1"
   },
   "outputs": [
    {
     "data": {
      "text/plain": [
       "0.9472158019283279"
      ]
     },
     "execution_count": 16,
     "metadata": {},
     "output_type": "execute_result"
    }
   ],
   "source": [
    "# R2\n",
    "modelo.rvalue**2"
   ]
  },
  {
   "cell_type": "markdown",
   "metadata": {
    "id": "hjttMO69y2yt"
   },
   "source": [
    "### Comparar pendientes"
   ]
  },
  {
   "cell_type": "code",
   "execution_count": 17,
   "metadata": {
    "colab": {
     "base_uri": "https://localhost:8080/",
     "height": 457
    },
    "id": "kAJUBZeAy5zF",
    "outputId": "6bd58041-a38c-45df-a2b3-a351f6c0d0b1"
   },
   "outputs": [
    {
     "data": {
      "image/png": "[encoded data removed]",
      "text/plain": [
       "<Figure size 700x500 with 1 Axes>"
      ]
     },
     "metadata": {
      "needs_background": "light"
     },
     "output_type": "display_data"
    }
   ],
   "source": [
    "# Comparación de las pendientes\n",
    "\n",
    "plt.figure(figsize = (7, 5), dpi = 100)\n",
    "\n",
    "plt.scatter(elastico[\"Deformación [mm/mm]\"], elastico[\"Esfuerzo [MPa]\"], color = \"#EC7063\", marker = \"o\", label = \"Datos\")\n",
    "\n",
    "plt.plot([elastico[\"Deformación [mm/mm]\"].iloc[0], elastico[\"Deformación [mm/mm]\"].iloc[-1]],\n",
    "         [E_1*elastico[\"Deformación [mm/mm]\"].iloc[0], E_1*elastico[\"Deformación [mm/mm]\"].iloc[-1]],\n",
    "         color = \"#48C9B0\",\n",
    "         label = \"Método de la pendiente\")\n",
    "\n",
    "plt.plot(elastico[\"Deformación [mm/mm]\"], E_2*elastico[\"Deformación [mm/mm]\"] + modelo.intercept,\n",
    "         color = \"#A569BD\",\n",
    "         label = \"Método de la regresión\")\n",
    "\n",
    "plt.xlabel(\"Deformación [mm/mm]\")\n",
    "plt.ylabel(\"Esfuerzo [MPa]\")\n",
    "plt.legend(loc = 0)\n",
    "plt.grid()\n",
    "plt.show()"
   ]
  },
  {
   "cell_type": "markdown",
   "metadata": {
    "id": "0rl88Zgj0dxN"
   },
   "source": [
    "## *Esfuerzo de Fluencia - $\\sigma_Y$*\n",
    "## *(Yield strength)*\n",
    "\n"
   ]
  },
  {
   "cell_type": "markdown",
   "metadata": {
    "id": "NPAFYA0u_pdq"
   },
   "source": [
    "### Método del 0.2%"
   ]
  },
  {
   "cell_type": "code",
   "execution_count": 18,
   "metadata": {
    "colab": {
     "base_uri": "https://localhost:8080/"
    },
    "id": "B2Pg9j9iy4FU",
    "outputId": "8a04ae48-71e3-4873-9411-bc8b3299ff0c"
   },
   "outputs": [
    {
     "data": {
      "text/plain": [
       "-308.0786974381312"
      ]
     },
     "execution_count": 18,
     "metadata": {},
     "output_type": "execute_result"
    }
   ],
   "source": [
    "# Intercepto Offset \n",
    "\n",
    "intercepto = -E_2 * 0.2/100\n",
    "intercepto"
   ]
  },
  {
   "cell_type": "code",
   "execution_count": 19,
   "metadata": {
    "colab": {
     "base_uri": "https://localhost:8080/",
     "height": 457
    },
    "id": "Kqt-GjKy1MyY",
    "outputId": "8796d454-78d6-4e5d-8b3a-dbb1ff4e9d02"
   },
   "outputs": [
    {
     "data": {
      "image/png": "[encoded data removed]",
      "text/plain": [
       "<Figure size 700x500 with 1 Axes>"
      ]
     },
     "metadata": {
      "needs_background": "light"
     },
     "output_type": "display_data"
    }
   ],
   "source": [
    "fluencia = df[df[\"Deformación [mm/mm]\"] <= 1/100]\n",
    "\n",
    "# Gráfica Zona Elástica\n",
    "plt.figure(figsize = (7, 5), dpi = 100)\n",
    "\n",
    "plt.scatter(fluencia[\"Deformación [mm/mm]\"], fluencia[\"Esfuerzo [MPa]\"], color = \"#EC7063\", marker = \"o\", label = \"Datos\")\n",
    "\n",
    "plt.plot([0.2/100, 0.5/100], [E_2*0.2/100 + intercepto, E_2*0.5/100 + intercepto],\n",
    "         color = \"#52BE80\",\n",
    "         label = \"Offset\")\n",
    "\n",
    "\n",
    "plt.xlabel(\"Deformación [mm/mm]\")\n",
    "plt.ylabel(\"Esfuerzo [MPa]\")\n",
    "plt.legend(loc = 0)\n",
    "plt.grid()\n",
    "plt.show()"
   ]
  },
  {
   "cell_type": "code",
   "execution_count": 20,
   "metadata": {
    "colab": {
     "base_uri": "https://localhost:8080/"
    },
    "id": "FDBPtD1py141",
    "outputId": "5a93802a-1987-41c1-af0b-345387a7ba68"
   },
   "outputs": [
    {
     "data": {
      "text/plain": [
       "array([ 1.60589498e+09, -3.08746836e+07,  1.93772030e+05, -3.18324431e+01])"
      ]
     },
     "execution_count": 20,
     "metadata": {},
     "output_type": "execute_result"
    }
   ],
   "source": [
    "# Regresión polinómica\n",
    "\n",
    "modelo_pol = np.polyfit(fluencia[\"Deformación [mm/mm]\"], fluencia[\"Esfuerzo [MPa]\"], 3)\n",
    "modelo_pol"
   ]
  },
  {
   "cell_type": "code",
   "execution_count": 21,
   "metadata": {
    "colab": {
     "base_uri": "https://localhost:8080/",
     "height": 457
    },
    "id": "c5K-lnIF4RK4",
    "outputId": "1c980b1a-002f-4623-dbc3-6bebba80d5e0"
   },
   "outputs": [
    {
     "data": {
      "image/png": "[encoded data removed]",
      "text/plain": [
       "<Figure size 700x500 with 1 Axes>"
      ]
     },
     "metadata": {
      "needs_background": "light"
     },
     "output_type": "display_data"
    }
   ],
   "source": [
    "# Gráfica\n",
    "\n",
    "plt.figure(figsize = (7, 5), dpi = 100)\n",
    "\n",
    "plt.scatter(fluencia[\"Deformación [mm/mm]\"], fluencia[\"Esfuerzo [MPa]\"], color = \"#EC7063\", marker = \"o\", label = \"Datos\")\n",
    "\n",
    "plt.plot([0.002, 0.005], [E_2*0.002 + intercepto, E_2*0.005 + intercepto], color = \"#2ECC71\", label = \"Offset\")\n",
    "\n",
    "plt.plot(fluencia[\"Deformación [mm/mm]\"], np.polyval(modelo_pol,fluencia[\"Deformación [mm/mm]\"]), color = \"#2980B9\", label = \"Regresión polinómica\")\n",
    "\n",
    "\n",
    "plt.xlabel(\"Deformación [mm/mm]\")\n",
    "plt.ylabel(\"Esfuerzo [MPa]\")\n",
    "plt.legend(loc = 0)\n",
    "plt.grid()\n",
    "plt.show()"
   ]
  },
  {
   "cell_type": "markdown",
   "metadata": {
    "id": "03dkbegY47CQ"
   },
   "source": [
    "El polinomio tiene la forma\n",
    "\n",
    "$$y = C_0 + C_1x + C_2x^{2} + C_3x^{3}$$"
   ]
  },
  {
   "cell_type": "code",
   "execution_count": 22,
   "metadata": {
    "colab": {
     "base_uri": "https://localhost:8080/"
    },
    "id": "kOgy-v_36Xc2",
    "outputId": "783ba73d-3777-4277-e6d2-8167c0c84f7a"
   },
   "outputs": [
    {
     "data": {
      "text/plain": [
       "(-31.832443079092297,\n",
       " 193772.02977698648,\n",
       " -30874683.55156603,\n",
       " 1605894981.8482466)"
      ]
     },
     "execution_count": 22,
     "metadata": {},
     "output_type": "execute_result"
    }
   ],
   "source": [
    "# Coeficientes \n",
    "\n",
    "C_0 = modelo_pol[3]\n",
    "C_1 = modelo_pol[2]\n",
    "C_2 = modelo_pol[1]\n",
    "C_3 = modelo_pol[0]\n",
    "\n",
    "C_0, C_1, C_2, C_3"
   ]
  },
  {
   "cell_type": "markdown",
   "metadata": {
    "id": "Dh7iJ7DR5TlR"
   },
   "source": [
    "Vamos a solucionar la siguiente ecuación\n",
    "\n",
    "$$ C_0 + C_1x + C_2x^{2} + C_3x^{3} = Ex + b $$\n",
    "\n",
    "$$C_3x^{3} + C_2x^{2} + (C_1x - Ex) + (C_0 - b)= 0$$"
   ]
  },
  {
   "cell_type": "code",
   "execution_count": 23,
   "metadata": {
    "colab": {
     "base_uri": "https://localhost:8080/"
    },
    "id": "bkp7KSPq46XU",
    "outputId": "bbf6eb9b-1285-498f-fc82-c6172d22904e"
   },
   "outputs": [
    {
     "data": {
      "text/plain": [
       "array([ 0.01720696,  0.00432849, -0.00230961])"
      ]
     },
     "execution_count": 23,
     "metadata": {},
     "output_type": "execute_result"
    }
   ],
   "source": [
    "# Raices del polinomio\n",
    "\n",
    "coeficientes = [C_3, C_2, C_1 - E_2, C_0 - intercepto]\n",
    "raices = np.roots(coeficientes)\n",
    "raices"
   ]
  },
  {
   "cell_type": "code",
   "execution_count": 24,
   "metadata": {
    "colab": {
     "base_uri": "https://localhost:8080/"
    },
    "id": "IM6snNYoJEly",
    "outputId": "bdb20451-fd2d-4dd7-c24b-f79d694f5a9a"
   },
   "outputs": [
    {
     "name": "stdout",
     "output_type": "stream",
     "text": [
      "La deformación a la fluencia es de 0.00433 [mm/mm] o 0.43 %\n"
     ]
    }
   ],
   "source": [
    "# Deformación a la fluencia\n",
    "\n",
    "e_y = raices[1]\n",
    "\n",
    "print(f\"La deformación a la fluencia es de {e_y:.5f} [mm/mm] o {e_y*100:.2f} %\")\n"
   ]
  },
  {
   "cell_type": "code",
   "execution_count": 25,
   "metadata": {
    "colab": {
     "base_uri": "https://localhost:8080/",
     "height": 457
    },
    "id": "D1hMq_bG5Qfm",
    "outputId": "88ddc4d6-46e2-4907-8a25-93162bb0eb30"
   },
   "outputs": [
    {
     "data": {
      "image/png": "[encoded data removed]",
      "text/plain": [
       "<Figure size 700x500 with 1 Axes>"
      ]
     },
     "metadata": {
      "needs_background": "light"
     },
     "output_type": "display_data"
    }
   ],
   "source": [
    "# Gráfica\n",
    "\n",
    "plt.figure(figsize = (7, 5), dpi = 100)\n",
    "\n",
    "plt.scatter(fluencia[\"Deformación [mm/mm]\"], fluencia[\"Esfuerzo [MPa]\"], color = \"#EC7063\", marker = \"o\", label = \"Datos\")\n",
    "\n",
    "plt.plot([0.002, 0.005], [E_2*0.002 + intercepto, E_2*0.005 + intercepto], color = \"#2ECC71\", label = \"Offset\")\n",
    "\n",
    "plt.plot(fluencia[\"Deformación [mm/mm]\"], np.polyval(modelo_pol,fluencia[\"Deformación [mm/mm]\"]), color = \"#2980B9\", label = \"Regresión polinómica\")\n",
    "\n",
    "plt.plot(raices[1], np.polyval(modelo_pol, e_y), color = \"#641E16\", marker = \"v\", markersize = 10, label = \"Esfuerzo de fluencia\")\n",
    "\n",
    "\n",
    "plt.xlabel(\"Deformación [mm/mm]\")\n",
    "plt.ylabel(\"Esfuerzo [MPa]\")\n",
    "plt.legend(loc = 4)\n",
    "plt.grid()\n",
    "plt.show()"
   ]
  },
  {
   "cell_type": "code",
   "execution_count": 26,
   "metadata": {
    "colab": {
     "base_uri": "https://localhost:8080/"
    },
    "id": "qnIIuJpc9368",
    "outputId": "2fcb608b-46a1-4472-c8ff-867b4770ed49"
   },
   "outputs": [
    {
     "name": "stdout",
     "output_type": "stream",
     "text": [
      "El esfuerzo de fluencia es de 358.68 MPa\n"
     ]
    }
   ],
   "source": [
    "# Esfuerzo de fluencia\n",
    "\n",
    "s_y = np.polyval(modelo_pol, e_y)\n",
    "print(f\"El esfuerzo de fluencia es de {s_y:.2f} MPa\")"
   ]
  },
  {
   "cell_type": "markdown",
   "metadata": {
    "id": "hRl52ddm__7R"
   },
   "source": [
    "### *Esfuerzo Último - $\\sigma_U$*\n",
    "### *(Tensile strength)*"
   ]
  },
  {
   "cell_type": "code",
   "execution_count": 27,
   "metadata": {
    "colab": {
     "base_uri": "https://localhost:8080/"
    },
    "id": "AfHWntvjA32B",
    "outputId": "f828e46b-abd1-484b-c237-63476b24c797"
   },
   "outputs": [
    {
     "name": "stdout",
     "output_type": "stream",
     "text": [
      "El esfuerzo de último es de 668.36 MPa\n"
     ]
    }
   ],
   "source": [
    "# Esfuerzo último \n",
    "\n",
    "s_u = max(df[\"Esfuerzo [MPa]\"])\n",
    "print(f\"El esfuerzo de último es de {s_u:.2f} MPa\")"
   ]
  },
  {
   "cell_type": "code",
   "execution_count": 28,
   "metadata": {
    "colab": {
     "base_uri": "https://localhost:8080/",
     "height": 1000
    },
    "id": "lOQn_rxoBdvZ",
    "outputId": "2b7d3629-5181-4bf4-951a-e2363b074068"
   },
   "outputs": [
    {
     "data": {
      "text/html": [
       "<div>\n",
       "<style scoped>\n",
       "    .dataframe tbody tr th:only-of-type {\n",
       "        vertical-align: middle;\n",
       "    }\n",
       "\n",
       "    .dataframe tbody tr th {\n",
       "        vertical-align: top;\n",
       "    }\n",
       "\n",
       "    .dataframe thead th {\n",
       "        text-align: right;\n",
       "    }\n",
       "</style>\n",
       "<table border=\"1\" class=\"dataframe\">\n",
       "  <thead>\n",
       "    <tr style=\"text-align: right;\">\n",
       "      <th></th>\n",
       "      <th>Carga [kN]</th>\n",
       "      <th>Longitud [mm]</th>\n",
       "      <th>Esfuerzo [MPa]</th>\n",
       "      <th>Deformación [mm/mm]</th>\n",
       "    </tr>\n",
       "  </thead>\n",
       "  <tbody>\n",
       "    <tr>\n",
       "      <th>258</th>\n",
       "      <td>82.020189</td>\n",
       "      <td>56.085</td>\n",
       "      <td>668.360626</td>\n",
       "      <td>0.1217</td>\n",
       "    </tr>\n",
       "    <tr>\n",
       "      <th>259</th>\n",
       "      <td>82.020189</td>\n",
       "      <td>56.135</td>\n",
       "      <td>668.360626</td>\n",
       "      <td>0.1227</td>\n",
       "    </tr>\n",
       "    <tr>\n",
       "      <th>260</th>\n",
       "      <td>82.020189</td>\n",
       "      <td>56.190</td>\n",
       "      <td>668.360626</td>\n",
       "      <td>0.1238</td>\n",
       "    </tr>\n",
       "    <tr>\n",
       "      <th>261</th>\n",
       "      <td>82.020189</td>\n",
       "      <td>56.245</td>\n",
       "      <td>668.360626</td>\n",
       "      <td>0.1249</td>\n",
       "    </tr>\n",
       "    <tr>\n",
       "      <th>262</th>\n",
       "      <td>82.020189</td>\n",
       "      <td>56.295</td>\n",
       "      <td>668.360626</td>\n",
       "      <td>0.1259</td>\n",
       "    </tr>\n",
       "    <tr>\n",
       "      <th>263</th>\n",
       "      <td>82.020189</td>\n",
       "      <td>56.350</td>\n",
       "      <td>668.360626</td>\n",
       "      <td>0.1270</td>\n",
       "    </tr>\n",
       "    <tr>\n",
       "      <th>264</th>\n",
       "      <td>82.020189</td>\n",
       "      <td>56.405</td>\n",
       "      <td>668.360626</td>\n",
       "      <td>0.1281</td>\n",
       "    </tr>\n",
       "    <tr>\n",
       "      <th>265</th>\n",
       "      <td>82.020189</td>\n",
       "      <td>56.455</td>\n",
       "      <td>668.360626</td>\n",
       "      <td>0.1291</td>\n",
       "    </tr>\n",
       "    <tr>\n",
       "      <th>266</th>\n",
       "      <td>82.020189</td>\n",
       "      <td>56.515</td>\n",
       "      <td>668.360626</td>\n",
       "      <td>0.1303</td>\n",
       "    </tr>\n",
       "    <tr>\n",
       "      <th>267</th>\n",
       "      <td>82.020189</td>\n",
       "      <td>56.570</td>\n",
       "      <td>668.360626</td>\n",
       "      <td>0.1314</td>\n",
       "    </tr>\n",
       "    <tr>\n",
       "      <th>268</th>\n",
       "      <td>82.020189</td>\n",
       "      <td>56.615</td>\n",
       "      <td>668.360626</td>\n",
       "      <td>0.1323</td>\n",
       "    </tr>\n",
       "    <tr>\n",
       "      <th>269</th>\n",
       "      <td>82.020189</td>\n",
       "      <td>56.675</td>\n",
       "      <td>668.360626</td>\n",
       "      <td>0.1335</td>\n",
       "    </tr>\n",
       "    <tr>\n",
       "      <th>270</th>\n",
       "      <td>82.020189</td>\n",
       "      <td>56.735</td>\n",
       "      <td>668.360626</td>\n",
       "      <td>0.1347</td>\n",
       "    </tr>\n",
       "    <tr>\n",
       "      <th>271</th>\n",
       "      <td>82.020189</td>\n",
       "      <td>56.785</td>\n",
       "      <td>668.360626</td>\n",
       "      <td>0.1357</td>\n",
       "    </tr>\n",
       "    <tr>\n",
       "      <th>272</th>\n",
       "      <td>82.020189</td>\n",
       "      <td>56.845</td>\n",
       "      <td>668.360626</td>\n",
       "      <td>0.1369</td>\n",
       "    </tr>\n",
       "    <tr>\n",
       "      <th>273</th>\n",
       "      <td>82.020189</td>\n",
       "      <td>56.900</td>\n",
       "      <td>668.360626</td>\n",
       "      <td>0.1380</td>\n",
       "    </tr>\n",
       "    <tr>\n",
       "      <th>274</th>\n",
       "      <td>82.020189</td>\n",
       "      <td>56.955</td>\n",
       "      <td>668.360626</td>\n",
       "      <td>0.1391</td>\n",
       "    </tr>\n",
       "    <tr>\n",
       "      <th>275</th>\n",
       "      <td>82.020189</td>\n",
       "      <td>57.005</td>\n",
       "      <td>668.360626</td>\n",
       "      <td>0.1401</td>\n",
       "    </tr>\n",
       "    <tr>\n",
       "      <th>276</th>\n",
       "      <td>82.020189</td>\n",
       "      <td>57.070</td>\n",
       "      <td>668.360626</td>\n",
       "      <td>0.1414</td>\n",
       "    </tr>\n",
       "    <tr>\n",
       "      <th>277</th>\n",
       "      <td>82.020189</td>\n",
       "      <td>57.120</td>\n",
       "      <td>668.360626</td>\n",
       "      <td>0.1424</td>\n",
       "    </tr>\n",
       "    <tr>\n",
       "      <th>278</th>\n",
       "      <td>82.020189</td>\n",
       "      <td>57.175</td>\n",
       "      <td>668.360626</td>\n",
       "      <td>0.1435</td>\n",
       "    </tr>\n",
       "    <tr>\n",
       "      <th>279</th>\n",
       "      <td>82.020189</td>\n",
       "      <td>57.230</td>\n",
       "      <td>668.360626</td>\n",
       "      <td>0.1446</td>\n",
       "    </tr>\n",
       "    <tr>\n",
       "      <th>280</th>\n",
       "      <td>82.020189</td>\n",
       "      <td>57.295</td>\n",
       "      <td>668.360626</td>\n",
       "      <td>0.1459</td>\n",
       "    </tr>\n",
       "    <tr>\n",
       "      <th>281</th>\n",
       "      <td>82.020189</td>\n",
       "      <td>57.340</td>\n",
       "      <td>668.360626</td>\n",
       "      <td>0.1468</td>\n",
       "    </tr>\n",
       "    <tr>\n",
       "      <th>282</th>\n",
       "      <td>82.020189</td>\n",
       "      <td>57.400</td>\n",
       "      <td>668.360626</td>\n",
       "      <td>0.1480</td>\n",
       "    </tr>\n",
       "    <tr>\n",
       "      <th>283</th>\n",
       "      <td>82.020189</td>\n",
       "      <td>57.460</td>\n",
       "      <td>668.360626</td>\n",
       "      <td>0.1492</td>\n",
       "    </tr>\n",
       "    <tr>\n",
       "      <th>284</th>\n",
       "      <td>82.020189</td>\n",
       "      <td>57.510</td>\n",
       "      <td>668.360626</td>\n",
       "      <td>0.1502</td>\n",
       "    </tr>\n",
       "    <tr>\n",
       "      <th>285</th>\n",
       "      <td>82.020189</td>\n",
       "      <td>57.570</td>\n",
       "      <td>668.360626</td>\n",
       "      <td>0.1514</td>\n",
       "    </tr>\n",
       "    <tr>\n",
       "      <th>286</th>\n",
       "      <td>82.020189</td>\n",
       "      <td>57.630</td>\n",
       "      <td>668.360626</td>\n",
       "      <td>0.1526</td>\n",
       "    </tr>\n",
       "    <tr>\n",
       "      <th>287</th>\n",
       "      <td>82.020189</td>\n",
       "      <td>57.685</td>\n",
       "      <td>668.360626</td>\n",
       "      <td>0.1537</td>\n",
       "    </tr>\n",
       "    <tr>\n",
       "      <th>288</th>\n",
       "      <td>82.020189</td>\n",
       "      <td>57.745</td>\n",
       "      <td>668.360626</td>\n",
       "      <td>0.1549</td>\n",
       "    </tr>\n",
       "    <tr>\n",
       "      <th>289</th>\n",
       "      <td>82.020189</td>\n",
       "      <td>57.805</td>\n",
       "      <td>668.360626</td>\n",
       "      <td>0.1561</td>\n",
       "    </tr>\n",
       "    <tr>\n",
       "      <th>290</th>\n",
       "      <td>82.020189</td>\n",
       "      <td>57.860</td>\n",
       "      <td>668.360626</td>\n",
       "      <td>0.1572</td>\n",
       "    </tr>\n",
       "    <tr>\n",
       "      <th>291</th>\n",
       "      <td>82.020189</td>\n",
       "      <td>57.915</td>\n",
       "      <td>668.360626</td>\n",
       "      <td>0.1583</td>\n",
       "    </tr>\n",
       "    <tr>\n",
       "      <th>292</th>\n",
       "      <td>82.020189</td>\n",
       "      <td>57.985</td>\n",
       "      <td>668.360626</td>\n",
       "      <td>0.1597</td>\n",
       "    </tr>\n",
       "    <tr>\n",
       "      <th>293</th>\n",
       "      <td>82.020189</td>\n",
       "      <td>58.035</td>\n",
       "      <td>668.360626</td>\n",
       "      <td>0.1607</td>\n",
       "    </tr>\n",
       "    <tr>\n",
       "      <th>294</th>\n",
       "      <td>82.020189</td>\n",
       "      <td>58.095</td>\n",
       "      <td>668.360626</td>\n",
       "      <td>0.1619</td>\n",
       "    </tr>\n",
       "    <tr>\n",
       "      <th>295</th>\n",
       "      <td>82.020189</td>\n",
       "      <td>58.155</td>\n",
       "      <td>668.360626</td>\n",
       "      <td>0.1631</td>\n",
       "    </tr>\n",
       "    <tr>\n",
       "      <th>296</th>\n",
       "      <td>82.020189</td>\n",
       "      <td>58.220</td>\n",
       "      <td>668.360626</td>\n",
       "      <td>0.1644</td>\n",
       "    </tr>\n",
       "    <tr>\n",
       "      <th>297</th>\n",
       "      <td>82.020189</td>\n",
       "      <td>58.275</td>\n",
       "      <td>668.360626</td>\n",
       "      <td>0.1655</td>\n",
       "    </tr>\n",
       "    <tr>\n",
       "      <th>298</th>\n",
       "      <td>82.020189</td>\n",
       "      <td>58.335</td>\n",
       "      <td>668.360626</td>\n",
       "      <td>0.1667</td>\n",
       "    </tr>\n",
       "    <tr>\n",
       "      <th>299</th>\n",
       "      <td>82.020189</td>\n",
       "      <td>58.395</td>\n",
       "      <td>668.360626</td>\n",
       "      <td>0.1679</td>\n",
       "    </tr>\n",
       "    <tr>\n",
       "      <th>300</th>\n",
       "      <td>82.020189</td>\n",
       "      <td>58.460</td>\n",
       "      <td>668.360626</td>\n",
       "      <td>0.1692</td>\n",
       "    </tr>\n",
       "    <tr>\n",
       "      <th>301</th>\n",
       "      <td>82.020189</td>\n",
       "      <td>58.515</td>\n",
       "      <td>668.360626</td>\n",
       "      <td>0.1703</td>\n",
       "    </tr>\n",
       "    <tr>\n",
       "      <th>302</th>\n",
       "      <td>82.020189</td>\n",
       "      <td>58.580</td>\n",
       "      <td>668.360626</td>\n",
       "      <td>0.1716</td>\n",
       "    </tr>\n",
       "    <tr>\n",
       "      <th>303</th>\n",
       "      <td>82.020189</td>\n",
       "      <td>58.645</td>\n",
       "      <td>668.360626</td>\n",
       "      <td>0.1729</td>\n",
       "    </tr>\n",
       "    <tr>\n",
       "      <th>304</th>\n",
       "      <td>82.020189</td>\n",
       "      <td>58.700</td>\n",
       "      <td>668.360626</td>\n",
       "      <td>0.1740</td>\n",
       "    </tr>\n",
       "    <tr>\n",
       "      <th>305</th>\n",
       "      <td>82.020189</td>\n",
       "      <td>58.760</td>\n",
       "      <td>668.360626</td>\n",
       "      <td>0.1752</td>\n",
       "    </tr>\n",
       "    <tr>\n",
       "      <th>306</th>\n",
       "      <td>82.020189</td>\n",
       "      <td>58.830</td>\n",
       "      <td>668.360626</td>\n",
       "      <td>0.1766</td>\n",
       "    </tr>\n",
       "    <tr>\n",
       "      <th>307</th>\n",
       "      <td>82.020189</td>\n",
       "      <td>58.885</td>\n",
       "      <td>668.360626</td>\n",
       "      <td>0.1777</td>\n",
       "    </tr>\n",
       "    <tr>\n",
       "      <th>308</th>\n",
       "      <td>82.020189</td>\n",
       "      <td>58.940</td>\n",
       "      <td>668.360626</td>\n",
       "      <td>0.1788</td>\n",
       "    </tr>\n",
       "  </tbody>\n",
       "</table>\n",
       "</div>"
      ],
      "text/plain": [
       "     Carga [kN]  Longitud [mm]  Esfuerzo [MPa]  Deformación [mm/mm]\n",
       "258   82.020189         56.085      668.360626               0.1217\n",
       "259   82.020189         56.135      668.360626               0.1227\n",
       "260   82.020189         56.190      668.360626               0.1238\n",
       "261   82.020189         56.245      668.360626               0.1249\n",
       "262   82.020189         56.295      668.360626               0.1259\n",
       "263   82.020189         56.350      668.360626               0.1270\n",
       "264   82.020189         56.405      668.360626               0.1281\n",
       "265   82.020189         56.455      668.360626               0.1291\n",
       "266   82.020189         56.515      668.360626               0.1303\n",
       "267   82.020189         56.570      668.360626               0.1314\n",
       "268   82.020189         56.615      668.360626               0.1323\n",
       "269   82.020189         56.675      668.360626               0.1335\n",
       "270   82.020189         56.735      668.360626               0.1347\n",
       "271   82.020189         56.785      668.360626               0.1357\n",
       "272   82.020189         56.845      668.360626               0.1369\n",
       "273   82.020189         56.900      668.360626               0.1380\n",
       "274   82.020189         56.955      668.360626               0.1391\n",
       "275   82.020189         57.005      668.360626               0.1401\n",
       "276   82.020189         57.070      668.360626               0.1414\n",
       "277   82.020189         57.120      668.360626               0.1424\n",
       "278   82.020189         57.175      668.360626               0.1435\n",
       "279   82.020189         57.230      668.360626               0.1446\n",
       "280   82.020189         57.295      668.360626               0.1459\n",
       "281   82.020189         57.340      668.360626               0.1468\n",
       "282   82.020189         57.400      668.360626               0.1480\n",
       "283   82.020189         57.460      668.360626               0.1492\n",
       "284   82.020189         57.510      668.360626               0.1502\n",
       "285   82.020189         57.570      668.360626               0.1514\n",
       "286   82.020189         57.630      668.360626               0.1526\n",
       "287   82.020189         57.685      668.360626               0.1537\n",
       "288   82.020189         57.745      668.360626               0.1549\n",
       "289   82.020189         57.805      668.360626               0.1561\n",
       "290   82.020189         57.860      668.360626               0.1572\n",
       "291   82.020189         57.915      668.360626               0.1583\n",
       "292   82.020189         57.985      668.360626               0.1597\n",
       "293   82.020189         58.035      668.360626               0.1607\n",
       "294   82.020189         58.095      668.360626               0.1619\n",
       "295   82.020189         58.155      668.360626               0.1631\n",
       "296   82.020189         58.220      668.360626               0.1644\n",
       "297   82.020189         58.275      668.360626               0.1655\n",
       "298   82.020189         58.335      668.360626               0.1667\n",
       "299   82.020189         58.395      668.360626               0.1679\n",
       "300   82.020189         58.460      668.360626               0.1692\n",
       "301   82.020189         58.515      668.360626               0.1703\n",
       "302   82.020189         58.580      668.360626               0.1716\n",
       "303   82.020189         58.645      668.360626               0.1729\n",
       "304   82.020189         58.700      668.360626               0.1740\n",
       "305   82.020189         58.760      668.360626               0.1752\n",
       "306   82.020189         58.830      668.360626               0.1766\n",
       "307   82.020189         58.885      668.360626               0.1777\n",
       "308   82.020189         58.940      668.360626               0.1788"
      ]
     },
     "execution_count": 28,
     "metadata": {},
     "output_type": "execute_result"
    }
   ],
   "source": [
    "# Datos de esfuerzo último \n",
    "\n",
    "ultimo = df[df[\"Esfuerzo [MPa]\"] == s_u]\n",
    "ultimo"
   ]
  },
  {
   "cell_type": "code",
   "execution_count": 29,
   "metadata": {
    "colab": {
     "base_uri": "https://localhost:8080/"
    },
    "id": "ZaofrowXJctp",
    "outputId": "a6fd96bc-d3fd-4c99-df56-165f12a2432a"
   },
   "outputs": [
    {
     "name": "stdout",
     "output_type": "stream",
     "text": [
      "La deformación a máxima tensión es de 0.14956 [mm/mm] o 14.96 %\n"
     ]
    }
   ],
   "source": [
    "# Deformación a la maxima tensión\n",
    "\n",
    "e_u = np.mean(ultimo[\"Deformación [mm/mm]\"])\n",
    "print(f\"La deformación a máxima tensión es de {e_u:.5f} [mm/mm] o {e_u*100:.2f} %\")\n"
   ]
  },
  {
   "cell_type": "code",
   "execution_count": 30,
   "metadata": {
    "colab": {
     "base_uri": "https://localhost:8080/",
     "height": 462
    },
    "id": "Gajy1ZBGAsCW",
    "outputId": "c5df80d9-24ad-4c34-cc0a-f2de613ccfad"
   },
   "outputs": [
    {
     "data": {
      "image/png": "[encoded data removed]",
      "text/plain": [
       "<Figure size 700x500 with 1 Axes>"
      ]
     },
     "metadata": {
      "needs_background": "light"
     },
     "output_type": "display_data"
    }
   ],
   "source": [
    "# Gráfica \n",
    "plt.figure(figsize = (7, 5), dpi = 100)\n",
    "\n",
    "plt.plot(df[\"Deformación [mm/mm]\"], df[\"Esfuerzo [MPa]\"], color = \"#EC7063\", label = \"Datos\")\n",
    "\n",
    "plt.plot(e_u, s_u, color = \"#8E44AD\", marker = \"s\", markersize = 10, label = \"Esfuerzo de último\")\n",
    "\n",
    "\n",
    "plt.xlabel(\"Deformación [mm/mm]\")\n",
    "plt.ylabel(\"Esfuerzo [MPa]\")\n",
    "plt.legend(loc = 4)\n",
    "plt.grid()\n",
    "plt.show()"
   ]
  },
  {
   "cell_type": "markdown",
   "metadata": {
    "id": "ZgaCfwPdD8E3"
   },
   "source": [
    "### *Esfuerzo de falla - $\\sigma_F$*\n",
    "### *(Failure strength)*\n"
   ]
  },
  {
   "cell_type": "code",
   "execution_count": 31,
   "metadata": {
    "colab": {
     "base_uri": "https://localhost:8080/"
    },
    "id": "vZek7kPEEQi8",
    "outputId": "2055add6-518d-4955-9d7f-625fe4c19ca7"
   },
   "outputs": [
    {
     "name": "stdout",
     "output_type": "stream",
     "text": [
      "El esfuerzo de falla es de 577.36 MPa\n"
     ]
    }
   ],
   "source": [
    "# Esfuerzo de falla\n",
    "\n",
    "s_f = df[\"Esfuerzo [MPa]\"].iloc[-1]\n",
    "print(f\"El esfuerzo de falla es de {s_f:.2f} MPa\")"
   ]
  },
  {
   "cell_type": "markdown",
   "metadata": {
    "id": "lt3pKB2oEhmQ"
   },
   "source": [
    "### *Deformación de falla - $\\varepsilon_F$*\n",
    "### *(Failure strain)*\n"
   ]
  },
  {
   "cell_type": "code",
   "execution_count": 32,
   "metadata": {
    "colab": {
     "base_uri": "https://localhost:8080/"
    },
    "id": "GvRLe49iEoS8",
    "outputId": "76a36d84-459c-4ba6-8a87-5aff34a64daa"
   },
   "outputs": [
    {
     "name": "stdout",
     "output_type": "stream",
     "text": [
      "La deformación a la falla es 0.26440 [mm/mm] o 26.44 %\n"
     ]
    }
   ],
   "source": [
    "# Deformación de falla\n",
    "\n",
    "e_f = df[\"Deformación [mm/mm]\"].iloc[-1]\n",
    "print(f\"La deformación a la falla es {e_f:.5f} [mm/mm] o {e_f*100:.2f} %\")"
   ]
  },
  {
   "cell_type": "markdown",
   "metadata": {
    "id": "KFKKY6I-CdvZ"
   },
   "source": [
    "## *Ductilidad - Elongación*\n",
    "\n",
    "$$EL = \\left(\\frac{L_f-L_0}{L_0}\\right)X100$$\n",
    "\n"
   ]
  },
  {
   "cell_type": "markdown",
   "metadata": {
    "id": "Kb-7Sey9Fe4W"
   },
   "source": [
    "$$L_f = 54.322 mm$$"
   ]
  },
  {
   "cell_type": "code",
   "execution_count": 33,
   "metadata": {
    "colab": {
     "base_uri": "https://localhost:8080/"
    },
    "id": "iggFxG_uCqu_",
    "outputId": "60b4aa80-41ca-4572-85eb-abb8f6d26bff"
   },
   "outputs": [
    {
     "name": "stdout",
     "output_type": "stream",
     "text": [
      "La elongación es de  8.64 %\n"
     ]
    }
   ],
   "source": [
    "# Elongación\n",
    "\n",
    "EL =(54.322 - 50)/50 * 100\n",
    "\n",
    "print(f\"La elongación es de  {EL:.2f} %\")"
   ]
  },
  {
   "cell_type": "markdown",
   "metadata": {
    "id": "G3P5vOGaGU31"
   },
   "source": [
    "## *Reducción de área*\n",
    "\n",
    "$$RA = \\left(\\frac{A_0-A_f}{A_0}\\right)X100$$\n"
   ]
  },
  {
   "cell_type": "markdown",
   "metadata": {
    "id": "TrD6Kz2OGiaU"
   },
   "source": [
    "$$D_f = 9.9 mm$$"
   ]
  },
  {
   "cell_type": "code",
   "execution_count": 34,
   "metadata": {
    "colab": {
     "base_uri": "https://localhost:8080/"
    },
    "id": "nU6_PT8fGh3Y",
    "outputId": "a2968041-42a5-431a-9f8f-308fcc9756a8"
   },
   "outputs": [
    {
     "name": "stdout",
     "output_type": "stream",
     "text": [
      "La reducción de área es de  37.27 %\n"
     ]
    }
   ],
   "source": [
    "# Reducción de área \n",
    "\n",
    "RA = (12.5**2 - 9.9**2)/(12.5**2) * 100\n",
    "\n",
    "print(f\"La reducción de área es de  {RA:.2f} %\")"
   ]
  },
  {
   "cell_type": "markdown",
   "metadata": {
    "id": "iNwj_uIFISXm"
   },
   "source": [
    "### Resiliencia - $U_T$\n",
    "\n",
    "<img src = \"https://www.e-education.psu.edu/matse81/sites/www.e-education.psu.edu.matse81/files/images/lesson04/resilience.png\" width=\"300\" >\n",
    "\n",
    "\n",
    "$$U_r \\cong \\frac{1}{2}\\sigma_Y\\varepsilon_Y$$"
   ]
  },
  {
   "cell_type": "code",
   "execution_count": 35,
   "metadata": {
    "colab": {
     "base_uri": "https://localhost:8080/"
    },
    "id": "nHe-X9MzI_YK",
    "outputId": "03f763b6-ffdc-4f13-be65-48c3a7b784e9"
   },
   "outputs": [
    {
     "name": "stdout",
     "output_type": "stream",
     "text": [
      "La resiliencia es de 0.7763 J/m3\n"
     ]
    }
   ],
   "source": [
    "# Resilencia\n",
    "\n",
    "u_r = 0.5 * s_y * e_y\n",
    "print(f\"La resiliencia es de {u_r:.4f} J/m3\")"
   ]
  },
  {
   "cell_type": "markdown",
   "metadata": {
    "id": "LYtGj1dyM5t3"
   },
   "source": [
    "### Módulo de Tenacidad - $T$\n",
    "\n",
    "<img src = \"https://i.ytimg.com/vi/JyZmIO1EzMU/maxresdefault.jpg\" width= \"500\" >\n",
    "\n"
   ]
  },
  {
   "cell_type": "code",
   "execution_count": 36,
   "metadata": {
    "colab": {
     "base_uri": "https://localhost:8080/",
     "height": 424
    },
    "id": "_-G1I7zeek2_",
    "outputId": "2c0412fc-9d2a-4133-ef8c-171044359de8"
   },
   "outputs": [
    {
     "data": {
      "text/html": [
       "<div>\n",
       "<style scoped>\n",
       "    .dataframe tbody tr th:only-of-type {\n",
       "        vertical-align: middle;\n",
       "    }\n",
       "\n",
       "    .dataframe tbody tr th {\n",
       "        vertical-align: top;\n",
       "    }\n",
       "\n",
       "    .dataframe thead th {\n",
       "        text-align: right;\n",
       "    }\n",
       "</style>\n",
       "<table border=\"1\" class=\"dataframe\">\n",
       "  <thead>\n",
       "    <tr style=\"text-align: right;\">\n",
       "      <th></th>\n",
       "      <th>Deformación [mm/mm]</th>\n",
       "      <th>Esfuerzo [MPa]</th>\n",
       "    </tr>\n",
       "  </thead>\n",
       "  <tbody>\n",
       "    <tr>\n",
       "      <th>0</th>\n",
       "      <td>0.000000</td>\n",
       "      <td>0.000000</td>\n",
       "    </tr>\n",
       "    <tr>\n",
       "      <th>1</th>\n",
       "      <td>0.000054</td>\n",
       "      <td>2.695407</td>\n",
       "    </tr>\n",
       "    <tr>\n",
       "      <th>2</th>\n",
       "      <td>0.000054</td>\n",
       "      <td>8.001500</td>\n",
       "    </tr>\n",
       "    <tr>\n",
       "      <th>3</th>\n",
       "      <td>0.000054</td>\n",
       "      <td>8.848718</td>\n",
       "    </tr>\n",
       "    <tr>\n",
       "      <th>4</th>\n",
       "      <td>0.000054</td>\n",
       "      <td>9.256638</td>\n",
       "    </tr>\n",
       "    <tr>\n",
       "      <th>...</th>\n",
       "      <td>...</td>\n",
       "      <td>...</td>\n",
       "    </tr>\n",
       "    <tr>\n",
       "      <th>368</th>\n",
       "      <td>0.258800</td>\n",
       "      <td>593.052387</td>\n",
       "    </tr>\n",
       "    <tr>\n",
       "      <th>369</th>\n",
       "      <td>0.260300</td>\n",
       "      <td>589.914544</td>\n",
       "    </tr>\n",
       "    <tr>\n",
       "      <th>370</th>\n",
       "      <td>0.261600</td>\n",
       "      <td>586.776700</td>\n",
       "    </tr>\n",
       "    <tr>\n",
       "      <th>371</th>\n",
       "      <td>0.262800</td>\n",
       "      <td>583.638857</td>\n",
       "    </tr>\n",
       "    <tr>\n",
       "      <th>372</th>\n",
       "      <td>0.264400</td>\n",
       "      <td>577.363170</td>\n",
       "    </tr>\n",
       "  </tbody>\n",
       "</table>\n",
       "<p>373 rows × 2 columns</p>\n",
       "</div>"
      ],
      "text/plain": [
       "     Deformación [mm/mm]  Esfuerzo [MPa]\n",
       "0               0.000000        0.000000\n",
       "1               0.000054        2.695407\n",
       "2               0.000054        8.001500\n",
       "3               0.000054        8.848718\n",
       "4               0.000054        9.256638\n",
       "..                   ...             ...\n",
       "368             0.258800      593.052387\n",
       "369             0.260300      589.914544\n",
       "370             0.261600      586.776700\n",
       "371             0.262800      583.638857\n",
       "372             0.264400      577.363170\n",
       "\n",
       "[373 rows x 2 columns]"
      ]
     },
     "execution_count": 36,
     "metadata": {},
     "output_type": "execute_result"
    }
   ],
   "source": [
    "# Datos de esfuerzo y deformación\n",
    "\n",
    "datos = df[[\"Deformación [mm/mm]\", \"Esfuerzo [MPa]\"]]\n",
    "datos = datos.sort_values(by = \"Deformación [mm/mm]\")\n",
    "datos"
   ]
  },
  {
   "cell_type": "code",
   "execution_count": 37,
   "metadata": {
    "colab": {
     "base_uri": "https://localhost:8080/",
     "height": 424
    },
    "id": "Jr6pjhLbek2_",
    "outputId": "a9f455ae-cecb-4f5e-9f60-0a92f7f67ffd"
   },
   "outputs": [
    {
     "data": {
      "text/html": [
       "<div>\n",
       "<style scoped>\n",
       "    .dataframe tbody tr th:only-of-type {\n",
       "        vertical-align: middle;\n",
       "    }\n",
       "\n",
       "    .dataframe tbody tr th {\n",
       "        vertical-align: top;\n",
       "    }\n",
       "\n",
       "    .dataframe thead th {\n",
       "        text-align: right;\n",
       "    }\n",
       "</style>\n",
       "<table border=\"1\" class=\"dataframe\">\n",
       "  <thead>\n",
       "    <tr style=\"text-align: right;\">\n",
       "      <th></th>\n",
       "      <th>Deformación [mm/mm]</th>\n",
       "      <th>Esfuerzo [MPa]</th>\n",
       "    </tr>\n",
       "  </thead>\n",
       "  <tbody>\n",
       "    <tr>\n",
       "      <th>0</th>\n",
       "      <td>0.000000</td>\n",
       "      <td>0.000000</td>\n",
       "    </tr>\n",
       "    <tr>\n",
       "      <th>1</th>\n",
       "      <td>0.000054</td>\n",
       "      <td>2.695407</td>\n",
       "    </tr>\n",
       "    <tr>\n",
       "      <th>9</th>\n",
       "      <td>0.000134</td>\n",
       "      <td>11.358993</td>\n",
       "    </tr>\n",
       "    <tr>\n",
       "      <th>6</th>\n",
       "      <td>0.000161</td>\n",
       "      <td>9.946963</td>\n",
       "    </tr>\n",
       "    <tr>\n",
       "      <th>13</th>\n",
       "      <td>0.000188</td>\n",
       "      <td>15.344054</td>\n",
       "    </tr>\n",
       "    <tr>\n",
       "      <th>...</th>\n",
       "      <td>...</td>\n",
       "      <td>...</td>\n",
       "    </tr>\n",
       "    <tr>\n",
       "      <th>368</th>\n",
       "      <td>0.258800</td>\n",
       "      <td>593.052387</td>\n",
       "    </tr>\n",
       "    <tr>\n",
       "      <th>369</th>\n",
       "      <td>0.260300</td>\n",
       "      <td>589.914544</td>\n",
       "    </tr>\n",
       "    <tr>\n",
       "      <th>370</th>\n",
       "      <td>0.261600</td>\n",
       "      <td>586.776700</td>\n",
       "    </tr>\n",
       "    <tr>\n",
       "      <th>371</th>\n",
       "      <td>0.262800</td>\n",
       "      <td>583.638857</td>\n",
       "    </tr>\n",
       "    <tr>\n",
       "      <th>372</th>\n",
       "      <td>0.264400</td>\n",
       "      <td>577.363170</td>\n",
       "    </tr>\n",
       "  </tbody>\n",
       "</table>\n",
       "<p>329 rows × 2 columns</p>\n",
       "</div>"
      ],
      "text/plain": [
       "     Deformación [mm/mm]  Esfuerzo [MPa]\n",
       "0               0.000000        0.000000\n",
       "1               0.000054        2.695407\n",
       "9               0.000134       11.358993\n",
       "6               0.000161        9.946963\n",
       "13              0.000188       15.344054\n",
       "..                   ...             ...\n",
       "368             0.258800      593.052387\n",
       "369             0.260300      589.914544\n",
       "370             0.261600      586.776700\n",
       "371             0.262800      583.638857\n",
       "372             0.264400      577.363170\n",
       "\n",
       "[329 rows x 2 columns]"
      ]
     },
     "execution_count": 37,
     "metadata": {},
     "output_type": "execute_result"
    }
   ],
   "source": [
    "# Borrar duplicados\n",
    "\n",
    "datos.drop_duplicates(subset = [\"Deformación [mm/mm]\"], inplace = True)\n",
    "datos"
   ]
  },
  {
   "cell_type": "markdown",
   "metadata": {
    "id": "63tAZjc1ecUX"
   },
   "source": [
    "### Método de integración polinómica"
   ]
  },
  {
   "cell_type": "code",
   "execution_count": 38,
   "metadata": {
    "colab": {
     "base_uri": "https://localhost:8080/"
    },
    "id": "8SBm5l4necUY",
    "outputId": "dbea0adc-107e-4e4d-da9d-51d6e3c4840f"
   },
   "outputs": [
    {
     "data": {
      "text/plain": [
       "array([ 2.40845711e+09, -2.34802989e+09,  9.18977638e+08, -1.84828993e+08,\n",
       "        2.03345699e+07, -1.21409827e+06,  3.77692130e+04,  9.98967543e+01])"
      ]
     },
     "execution_count": 38,
     "metadata": {},
     "output_type": "execute_result"
    }
   ],
   "source": [
    "# Regresión polinómica\n",
    "\n",
    "modelo_2 = np.polyfit(datos[\"Deformación [mm/mm]\"], datos[\"Esfuerzo [MPa]\"], 7)\n",
    "modelo_2"
   ]
  },
  {
   "cell_type": "code",
   "execution_count": 39,
   "metadata": {
    "colab": {
     "base_uri": "https://localhost:8080/",
     "height": 457
    },
    "id": "0kdg-bzeecUY",
    "outputId": "5c772e68-ba98-414d-b7e1-7587463a8480"
   },
   "outputs": [
    {
     "data": {
      "image/png": "[encoded data removed]",
      "text/plain": [
       "<Figure size 700x500 with 1 Axes>"
      ]
     },
     "metadata": {
      "needs_background": "light"
     },
     "output_type": "display_data"
    }
   ],
   "source": [
    "# Gráfica\n",
    "plt.figure(figsize = (7, 5), dpi = 100)\n",
    "\n",
    "plt.scatter(datos[\"Deformación [mm/mm]\"], datos[\"Esfuerzo [MPa]\"], color = \"#EC7063\", marker = \"o\", label = \"Datos\")\n",
    "\n",
    "\n",
    "plt.plot(datos[\"Deformación [mm/mm]\"], np.polyval(modelo_2,datos[\"Deformación [mm/mm]\"]), color = \"#2980B9\", label = \"Regresión polinómica\")\n",
    "\n",
    "\n",
    "plt.xlabel(\"Deformación [mm/mm]\")\n",
    "plt.ylabel(\"Esfuerzo [MPa]\")\n",
    "plt.legend(loc = 4)\n",
    "plt.grid()\n",
    "plt.show()"
   ]
  },
  {
   "cell_type": "code",
   "execution_count": 40,
   "metadata": {
    "colab": {
     "base_uri": "https://localhost:8080/"
    },
    "id": "6OpO3majecUY",
    "outputId": "2a2cca59-7092-46ff-ed00-8111529cc6aa"
   },
   "outputs": [
    {
     "data": {
      "text/plain": [
       "poly1d([ 3.01057138e+08, -3.35432841e+08,  1.53162940e+08, -3.69657986e+07,\n",
       "        5.08364248e+06, -4.04699425e+05,  1.88846065e+04,  9.98967543e+01,\n",
       "        0.00000000e+00])"
      ]
     },
     "execution_count": 40,
     "metadata": {},
     "output_type": "execute_result"
    }
   ],
   "source": [
    "# Integración\n",
    "\n",
    "p = np.poly1d(modelo_2)\n",
    "i = p.integ()\n",
    "i"
   ]
  },
  {
   "cell_type": "code",
   "execution_count": 41,
   "metadata": {
    "colab": {
     "base_uri": "https://localhost:8080/"
    },
    "id": "SVoP_6_kecUZ",
    "outputId": "7d3c14c5-ad78-44e7-d8c7-f62093826e23"
   },
   "outputs": [
    {
     "name": "stdout",
     "output_type": "stream",
     "text": [
      "El módulo de tenacidad es de 162.808 J/m3\n"
     ]
    }
   ],
   "source": [
    "# Cálculo de la tenacidad\n",
    "\n",
    "u_t_1 = i(max(datos[\"Deformación [mm/mm]\"])) - i(min(datos[\"Deformación [mm/mm]\"]))\n",
    "\n",
    "print(f\"El módulo de tenacidad es de {u_t_1:.3f} J/m3\")"
   ]
  },
  {
   "cell_type": "markdown",
   "metadata": {
    "id": "anA0qAigODDG"
   },
   "source": [
    "### Método de interpolación Spline"
   ]
  },
  {
   "cell_type": "code",
   "execution_count": 42,
   "metadata": {
    "id": "yRcKqttFOc1q"
   },
   "outputs": [],
   "source": [
    "# Interpolación Spline\n",
    "\n",
    "modelo_spline = interpolate.splrep(datos[\"Deformación [mm/mm]\"], datos[\"Esfuerzo [MPa]\"])"
   ]
  },
  {
   "cell_type": "code",
   "execution_count": 43,
   "metadata": {
    "id": "fPbXUUgIQ7qF"
   },
   "outputs": [],
   "source": [
    "# Nuevos datos de esfuerzo\n",
    "\n",
    "s_new = interpolate.splev(datos[\"Deformación [mm/mm]\"], modelo_spline)"
   ]
  },
  {
   "cell_type": "code",
   "execution_count": 44,
   "metadata": {
    "colab": {
     "base_uri": "https://localhost:8080/",
     "height": 462
    },
    "id": "dKZLy4ALTgcI",
    "outputId": "303c3c0a-9f2f-45ef-923c-0fedf1d8047b"
   },
   "outputs": [
    {
     "data": {
      "image/png": "[encoded data removed]",
      "text/plain": [
       "<Figure size 700x500 with 1 Axes>"
      ]
     },
     "metadata": {
      "needs_background": "light"
     },
     "output_type": "display_data"
    }
   ],
   "source": [
    "# Gráfica\n",
    "\n",
    "plt.figure(figsize = (7, 5), dpi = 100)\n",
    "\n",
    "plt.plot(df[\"Deformación [mm/mm]\"], df[\"Esfuerzo [MPa]\"], color = \"#EC7063\", label = \"Datos\")\n",
    "\n",
    "plt.plot(datos[\"Deformación [mm/mm]\"], s_new, color = \"#8E44AD\", label = \"Spline\")\n",
    "\n",
    "\n",
    "plt.xlabel(\"Deformación [mm/mm]\")\n",
    "plt.ylabel(\"Esfuerzo [MPa]\")\n",
    "plt.legend(loc = 4)\n",
    "plt.grid()\n",
    "plt.show()"
   ]
  },
  {
   "cell_type": "code",
   "execution_count": 45,
   "metadata": {
    "colab": {
     "base_uri": "https://localhost:8080/"
    },
    "id": "b3J6jmAZapFa",
    "outputId": "8e9237a9-7a2c-447e-e60b-3697e628eea4"
   },
   "outputs": [
    {
     "name": "stdout",
     "output_type": "stream",
     "text": [
      "El módulo de tenacidad es de 163.102 J/m3\n"
     ]
    }
   ],
   "source": [
    "# Módulo de tenacidad\n",
    "\n",
    "u_t_2 = interpolate.splint(min(df[\"Deformación [mm/mm]\"]), max(df[\"Deformación [mm/mm]\"]), \n",
    "                           modelo_spline)\n",
    "\n",
    "print(f\"El módulo de tenacidad es de {u_t_2:.3f} J/m3\")"
   ]
  },
  {
   "cell_type": "markdown",
   "metadata": {
    "id": "EeZHx-HoblV6"
   },
   "source": [
    "### Método de intregración por trapezoides\n",
    "\n",
    "<img src = \"https://www.bragitoff.com/wp-content/uploads/2015/08/TrapezoidRule1.png\" width= \"300\" >\n"
   ]
  },
  {
   "cell_type": "code",
   "execution_count": 46,
   "metadata": {
    "colab": {
     "base_uri": "https://localhost:8080/"
    },
    "id": "IXsZSABmcJ7A",
    "outputId": "0487bf8d-29d9-42ee-e383-276d52a45166"
   },
   "outputs": [
    {
     "name": "stdout",
     "output_type": "stream",
     "text": [
      "El módulo de tenacidad es de 163.098 J/m3\n"
     ]
    }
   ],
   "source": [
    "# Integración por trapezoides\n",
    "\n",
    "u_t_3 = trapezoid(y = datos[\"Esfuerzo [MPa]\"],\n",
    "                  x = datos[\"Deformación [mm/mm]\"])\n",
    "\n",
    "print(f\"El módulo de tenacidad es de {u_t_3:.3f} J/m3\")"
   ]
  },
  {
   "cell_type": "markdown",
   "metadata": {
    "id": "MGE0xQZrfURu"
   },
   "source": [
    "# **Resumen de propiedades del ensayo de tensión**\n",
    "\n",
    "* $E = 154.04  GPa$\n",
    "* $\\sigma_Y = 358.68  MPa$\n",
    "* $\\varepsilon_Y = 0.43 \\%$\n",
    "* $\\sigma_U = 668.36  MPa$\n",
    "* $\\varepsilon_U = 14.96 \\%$\n",
    "* $\\sigma_F = 577.36  MPa$\n",
    "* $\\varepsilon_F = 26.44 \\%$\n",
    "* $EL = 8.64 \\%$\n",
    "* $RA = 37.27 \\%$\n",
    "* $U_R = 0.7763 \\frac{J}{m^3}$\n",
    "* $U_T = 163.102 \\frac{J}{m^3}$"
   ]
  }
 ],
 "metadata": {
  "colab": {
   "provenance": []
  },
  "kernelspec": {
   "display_name": "Python 3 (ipykernel)",
   "language": "python",
   "name": "python3"
  },
  "language_info": {
   "codemirror_mode": {
    "name": "ipython",
    "version": 3
   },
   "file_extension": ".py",
   "mimetype": "text/x-python",
   "name": "python",
   "nbconvert_exporter": "python",
   "pygments_lexer": "ipython3",
   "version": "3.9.12"
  }
 },
 "nbformat": 4,
 "nbformat_minor": 1
}
